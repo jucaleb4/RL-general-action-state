{
 "cells": [
  {
   "cell_type": "markdown",
   "id": "e746c1cf-c683-4e9f-a5a9-b2c220761cd9",
   "metadata": {},
   "source": [
    "[link1](https://machinelearningmastery.com/modeling-pipeline-optimization-with-scikit-learn/)"
   ]
  },
  {
   "cell_type": "code",
   "execution_count": null,
   "id": "733eb16c-81ef-4e01-af76-f0136eba8f43",
   "metadata": {},
   "outputs": [],
   "source": []
  }
 ],
 "metadata": {
  "kernelspec": {
   "display_name": "Python 3 (ipykernel)",
   "language": "python",
   "name": "python3"
  },
  "language_info": {
   "codemirror_mode": {
    "name": "ipython",
    "version": 3
   },
   "file_extension": ".py",
   "mimetype": "text/x-python",
   "name": "python",
   "nbconvert_exporter": "python",
   "pygments_lexer": "ipython3",
   "version": "3.9.5"
  }
 },
 "nbformat": 4,
 "nbformat_minor": 5
}
