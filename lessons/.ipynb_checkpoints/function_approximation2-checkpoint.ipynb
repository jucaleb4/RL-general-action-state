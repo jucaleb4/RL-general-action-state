{
 "cells": [
  {
   "cell_type": "code",
   "execution_count": null,
   "id": "4de859bf-e17d-4d98-ad31-221ab32956c4",
   "metadata": {},
   "outputs": [],
   "source": [
    "import numpy as np\n",
    "import matplotlib.pyplot as plt\n",
    "\n",
    "from sklearn.kernel_ridge import KernelRidge\n",
    "from rffridge import RFFRidgeRegression\n",
    "\n",
    "from sklearn.gaussian_process.kernels import RBF\n",
    "\n",
    "from utils import get_data\n",
    "from utils import CustomFitter"
   ]
  },
  {
   "cell_type": "markdown",
   "id": "74b64d08-5290-4199-b034-471483e75db9",
   "metadata": {},
   "source": [
    "## Custom-implemented function approximation\n",
    "Our goal is to build/match the function approximation [here](https://gregorygundersen.com/blog/2019/12/23/random-fourier-features/), which uses sklearn."
   ]
  },
  {
   "cell_type": "code",
   "execution_count": null,
   "id": "454304a6-253a-4fef-968c-224460cfe054",
   "metadata": {},
   "outputs": [],
   "source": [
    "# get data\n",
    "N = 100\n",
    "(X,y,X_test) = get_data(N, type=\"quadratic\", how_X=\"random\")\n",
    "\n",
    "# predict use kernel ridge regression\n",
    "clf    = KernelRidge(kernel=RBF())\n",
    "clf    = clf.fit(X, y)\n",
    "y_krr_pred = clf.predict(X_test)\n",
    "\n",
    "# now use random Fourier features\n",
    "rff_dim = 100\n",
    "clf     = RFFRidgeRegression(rff_dim=rff_dim)\n",
    "clf.fit(X, y)\n",
    "y_rff_pred  = clf.predict(X_test)\n",
    "\n",
    "# our custom one\n",
    "clf     = CustomFitter(n=X.shape[1], dim=rff_dim, alpha=0.1)\n",
    "clf.fit(X, y)\n",
    "y_cus_pred  = clf.predict(X_test)\n",
    "\n",
    "# Set up figure and plot data.\n",
    "fig, axes = plt.subplots(3, 1)\n",
    "fig.set_size_inches(10, 8)\n",
    "cmap      = plt.cm.get_cmap('Blues')\n",
    "\n",
    "# plot training data\n",
    "for i in range(3):\n",
    "    axes[i].scatter(X, y, s=30, c=[cmap(0.3)])\n",
    "\n",
    "# plot testing data\n",
    "axes[0].plot(X_test, y_krr_pred, c=cmap(0.9))\n",
    "axes[1].plot(X_test, y_rff_pred, c=cmap(0.9))\n",
    "axes[2].plot(X_test, y_cus_pred, c=cmap(0.9))\n",
    "\n",
    "names = [\"RBF kernel\", \"RFF ridge\", \"Custom RFF ridge\"]\n",
    "for i in range(3):\n",
    "    axes[i].margins(0, 0.1)\n",
    "    axes[i].set_title(f'{names[i]} regression')\n",
    "    axes[i].set_ylabel(r'$y$', fontsize=14)\n",
    "    if i < 2:\n",
    "        axes[i].set_xticks([])\n",
    "    else:\n",
    "        axes[i].set_xticks(np.arange(-10, 10.1, 1))\n",
    "        axes[i].set_xlabel(r'$x$', fontsize=14)\n",
    "        \n",
    "plt.tight_layout()"
   ]
  },
  {
   "cell_type": "code",
   "execution_count": null,
   "id": "b155a8fa-a53c-4193-baaa-e80845ffef2c",
   "metadata": {},
   "outputs": [],
   "source": []
  }
 ],
 "metadata": {
  "kernelspec": {
   "display_name": "Python 3 (ipykernel)",
   "language": "python",
   "name": "python3"
  },
  "language_info": {
   "codemirror_mode": {
    "name": "ipython",
    "version": 3
   },
   "file_extension": ".py",
   "mimetype": "text/x-python",
   "name": "python",
   "nbconvert_exporter": "python",
   "pygments_lexer": "ipython3",
   "version": "3.9.5"
  }
 },
 "nbformat": 4,
 "nbformat_minor": 5
}
